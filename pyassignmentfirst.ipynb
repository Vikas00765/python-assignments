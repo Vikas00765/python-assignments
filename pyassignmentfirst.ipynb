{
 "cells": [
  {
   "cell_type": "raw",
   "id": "1f6b0780",
   "metadata": {},
   "source": [
    " first assigment \n",
    "\n",
    "1.\tWrite a Python program to find those numbers which are divisible by 7 and multiple of 5, between 1500 and 2700 (both included).\n",
    "2.\tPython program to add two numbers\n",
    "3.\tMaximum of two numbers in Python\n",
    "4.\tPython Program for factorial of a number\n",
    "5.\tPython Program for simple interest\n",
    "6.\tPython Program for compound interest\n",
    "7.\tPython Program to check Armstrong Number\n",
    "8.\tPython Program for Program to find area of a circle\n",
    "9.\tPython program to print all Prime numbers in an Interva\n",
    "10.\t Python program to check whether a number is Prime or not\n"
   ]
  },
  {
   "cell_type": "code",
   "execution_count": 8,
   "id": "e65f5290",
   "metadata": {},
   "outputs": [
    {
     "name": "stdout",
     "output_type": "stream",
     "text": [
      "1505\n",
      "1540\n",
      "1575\n",
      "1610\n",
      "1645\n",
      "1680\n",
      "1715\n",
      "1750\n",
      "1785\n",
      "1820\n",
      "1855\n",
      "1890\n",
      "1925\n",
      "1960\n",
      "1995\n",
      "2030\n",
      "2065\n",
      "2100\n",
      "2135\n",
      "2170\n",
      "2205\n",
      "2240\n",
      "2275\n",
      "2310\n",
      "2345\n",
      "2380\n",
      "2415\n",
      "2450\n",
      "2485\n",
      "2520\n",
      "2555\n",
      "2590\n",
      "2625\n",
      "2660\n",
      "2695\n"
     ]
    }
   ],
   "source": [
    "## 1. .\tWrite a Python program to find those numbers which are divisible by 7 and multiple of 5, between 1500 and 2700 (both included).\n",
    "for i in range(1500,2701):\n",
    "    if i%7==0 and i%5==0:\n",
    "        print(i)"
   ]
  },
  {
   "cell_type": "code",
   "execution_count": 30,
   "id": "bfddb6ab",
   "metadata": {},
   "outputs": [
    {
     "name": "stdout",
     "output_type": "stream",
     "text": [
      "2\n",
      "3\n",
      "5\n"
     ]
    }
   ],
   "source": [
    "#2.\tPython program to add two numbers\n",
    "def add(a,b):\n",
    "    print(a+b)\n",
    "a=int(input()) # input user int for a\n",
    "b=int(input()) # input user int for \"b\" variable\n",
    "a=add(a,b)\n",
    "a"
   ]
  },
  {
   "cell_type": "code",
   "execution_count": 32,
   "id": "8e9275d3",
   "metadata": {},
   "outputs": [
    {
     "name": "stdout",
     "output_type": "stream",
     "text": [
      "3\n",
      "4\n",
      "4\n"
     ]
    }
   ],
   "source": [
    "#3.\tMaximum of two numbers in Python\n",
    "def maximum (a,b):\n",
    "    if a>=b:\n",
    "        return a\n",
    "    else:\n",
    "        return b\n",
    "a=int(input()) # input user int for a\n",
    "b=int(input()) # input user int for \"b\" variable\n",
    "print(maximum(a,b))"
   ]
  },
  {
   "cell_type": "code",
   "execution_count": 54,
   "id": "8511dac4",
   "metadata": {},
   "outputs": [
    {
     "name": "stdout",
     "output_type": "stream",
     "text": [
      "5\n",
      "120\n"
     ]
    }
   ],
   "source": [
    "#4.\tPython Program for factorial of a number\n",
    "def fact(n): # factorial of a number n denotes the number \n",
    "    if (n==0) :\n",
    "        print('factorial of zero is zero')\n",
    "    facto =1\n",
    "    for i in range(1,n+1):\n",
    "        facto = facto *i\n",
    "    return facto\n",
    "n= int(input())\n",
    "if __name__ == '__main__':\n",
    "    \n",
    "    print(fact(n))\n"
   ]
  },
  {
   "cell_type": "code",
   "execution_count": 67,
   "id": "62626086",
   "metadata": {},
   "outputs": [
    {
     "name": "stdout",
     "output_type": "stream",
     "text": [
      "2000\n",
      "12\n",
      "1\n",
      "240.0\n",
      "<function si at 0x0000023F9AC05940>\n"
     ]
    }
   ],
   "source": [
    "#5.\tPython Program for simple interest\n",
    "\"\"\"SI = P*R*T/100*12\"\"\"\n",
    "def si(p,r,t):\n",
    "    sii = (p*r*t)/100\n",
    "    print(sii)\n",
    "p = int(input()) # enter principal amount\n",
    "r = int(input()) # enter rate of interst\n",
    "t = int(input()) #no of years\n",
    "\n",
    "si(p,r,t)\n",
    "if __name__ == '__main__':\n",
    "    print(si)"
   ]
  },
  {
   "cell_type": "code",
   "execution_count": 69,
   "id": "a3b3ae12",
   "metadata": {},
   "outputs": [
    {
     "name": "stdout",
     "output_type": "stream",
     "text": [
      "2000\n",
      "12\n",
      "2\n",
      "Compound interest is 508.8000000000002\n"
     ]
    }
   ],
   "source": [
    "#6.\tPython Program for compound interest\n",
    "#Compound_interest = principal * ((1+rate/100)**time).\n",
    "def ci(principle,rate,time):\n",
    "    # Calculates compound interest\n",
    "    Amount = principle * ((1 + rate / 100)**time)\n",
    "    CI = Amount - principle\n",
    "    print(\"Compound interest is\", CI)\n",
    "p = int(input()) # enter principal amount\n",
    "r = int(input()) # enter rate of interst\n",
    "t = int(input()) #no of years \n",
    "# Driver Code\n",
    "ci(p,r,t)\n"
   ]
  },
  {
   "cell_type": "code",
   "execution_count": 70,
   "id": "5c3b4545",
   "metadata": {},
   "outputs": [
    {
     "name": "stdout",
     "output_type": "stream",
     "text": [
      "1634 is an Armstrong number\n"
     ]
    }
   ],
   "source": [
    "#7.\tPython Program to check Armstrong Number\n",
    "#abcd... = pow(a,n) + pow(b,n) + pow(c,n) + pow(d,n) + .... \n",
    "\n",
    "num = 1634\n",
    "\n",
    "# Changed num variable to string, \n",
    "# and calculated the length (number of digits)\n",
    "order = len(str(num))\n",
    "\n",
    "# initialize sum\n",
    "sum = 0\n",
    "\n",
    "# find the sum of the cube of each digit\n",
    "temp = num\n",
    "while temp > 0:\n",
    "   digit = temp % 10\n",
    "   sum += digit ** order\n",
    "   temp //= 10\n",
    "\n",
    "# display the result\n",
    "if num == sum:\n",
    "   print(num,\"is an Armstrong number\")\n",
    "else:\n",
    "   print(num,\"is not an Armstrong number\")"
   ]
  },
  {
   "cell_type": "code",
   "execution_count": 77,
   "id": "0c3a9ecf",
   "metadata": {},
   "outputs": [
    {
     "name": "stdout",
     "output_type": "stream",
     "text": [
      "4\n",
      "25.132741228718345\n",
      "<function circle at 0x0000023F9A7D11F0>\n"
     ]
    }
   ],
   "source": [
    "#8.\tPython Program for Program to find area of a circle\n",
    "import math\n",
    "def circle(r): # r is radius \n",
    "    print(2*math.pi*r)\n",
    "r= float(input()) # taker user input\n",
    "circle(r)\n",
    "if __name__=='__main__':\n",
    "\n",
    "    print(circle)"
   ]
  },
  {
   "cell_type": "code",
   "execution_count": 78,
   "id": "4499b35a",
   "metadata": {},
   "outputs": [
    {
     "name": "stdout",
     "output_type": "stream",
     "text": [
      "1\n",
      "3\n",
      "5\n",
      "7\n",
      "9\n",
      "11\n",
      "13\n",
      "15\n",
      "17\n",
      "19\n",
      "21\n",
      "23\n",
      "25\n",
      "27\n",
      "29\n",
      "31\n",
      "33\n",
      "35\n",
      "37\n",
      "39\n",
      "41\n",
      "43\n",
      "45\n",
      "47\n",
      "49\n",
      "51\n",
      "53\n",
      "55\n",
      "57\n",
      "59\n",
      "61\n",
      "63\n",
      "65\n",
      "67\n",
      "69\n",
      "71\n",
      "73\n",
      "75\n",
      "77\n",
      "79\n",
      "81\n",
      "83\n",
      "85\n",
      "87\n",
      "89\n",
      "91\n",
      "93\n",
      "95\n",
      "97\n",
      "99\n"
     ]
    }
   ],
   "source": [
    "#9.\tPython program to print all Prime numbers in an Interval\n",
    "#Python program to check whether a number is Prime or not\n",
    "\n",
    "#ans= the value which is divisible by own and one is knowm as prime numbers\n",
    "for i in range (1,100):\n",
    "    if i%2!=0 and i%i==0:\n",
    "        print(i)\n"
   ]
  }
 ],
 "metadata": {
  "kernelspec": {
   "display_name": "Python 3 (ipykernel)",
   "language": "python",
   "name": "python3"
  },
  "language_info": {
   "codemirror_mode": {
    "name": "ipython",
    "version": 3
   },
   "file_extension": ".py",
   "mimetype": "text/x-python",
   "name": "python",
   "nbconvert_exporter": "python",
   "pygments_lexer": "ipython3",
   "version": "3.9.7"
  }
 },
 "nbformat": 4,
 "nbformat_minor": 5
}
